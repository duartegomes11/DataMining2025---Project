{
 "cells": [
  {
   "cell_type": "markdown",
   "id": "dcf5aa54",
   "metadata": {},
   "source": [
    "# Behavioral Segmentation"
   ]
  },
  {
   "cell_type": "markdown",
   "id": "19511bba",
   "metadata": {},
   "source": [
    "🎯 Goal\n",
    "\n",
    "Identify groups of customers based on how they behave as travelers — their flight frequency, travel style, loyalty behavior, and service usage patterns.\n",
    "👉 This answers:\n",
    "\n",
    "“How do our customers use the airline?”\n",
    "“What habits or travel styles distinguish one group from another?”\n",
    "\n",
    "🧩 Main Variables to Analyze\n",
    "\n",
    "From FlightsDB mainly:\n",
    "\n",
    "NumFlights\n",
    "\n",
    "NumFlightsWithCompanions\n",
    "\n",
    "DistanceKM\n",
    "\n",
    "PointsAccumulated / PointsRedeemed\n",
    "\n",
    "Month, Year → seasonal or temporal patterns\n",
    "\n",
    "Possible engineered features:\n",
    "\n",
    "Feature\tMeaning\n",
    "AvgFlightsPerMonth\tTravel frequency\n",
    "AvgDistancePerFlight\tLong-haul vs short-haul traveler\n",
    "PointsRedemptionRate\tLoyalty engagement\n",
    "CompanionRate\tSolo vs group traveler\n",
    "SeasonalityIndex\tTravel pattern variation across months"
   ]
  },
  {
   "cell_type": "code",
   "execution_count": null,
   "id": "ca0052e3",
   "metadata": {
    "vscode": {
     "languageId": "plaintext"
    }
   },
   "outputs": [],
   "source": []
  }
 ],
 "metadata": {
  "language_info": {
   "name": "python"
  }
 },
 "nbformat": 4,
 "nbformat_minor": 5
}
