{
 "cells": [
  {
   "cell_type": "markdown",
   "id": "10656062",
   "metadata": {},
   "source": [
    "# Demographic Segmentation"
   ]
  },
  {
   "cell_type": "markdown",
   "id": "f5a19b3a",
   "metadata": {},
   "source": [
    "🎯 Goal\n",
    "\n",
    "Group customers based on who they are — their socio-demographic and lifestyle profile.\n",
    "👉 This answers:\n",
    "\n",
    "“What customer types make up our user base?”\n",
    "“Which demographic groups show higher loyalty or profitability?”\n",
    "\n",
    "🧩 Main Variables to Analyze\n",
    "\n",
    "From CustomerDB mainly:\n",
    "\n",
    "Age (if available or derived)\n",
    "\n",
    "Gender\n",
    "\n",
    "Education\n",
    "\n",
    "MaritalStatus\n",
    "\n",
    "Income\n",
    "\n",
    "LocationCode (Urban/Suburban/Rural)\n",
    "\n",
    "Country, Province, City\n",
    "\n",
    "Engineered features:\n",
    "\n",
    "Feature\tMeaning\n",
    "IncomeBracket\tCategorized income levels\n",
    "GeoRegion\tGrouping by continent / region\n",
    "EducationLevelEncoded\tNumerical coding for clustering"
   ]
  }
 ],
 "metadata": {
  "language_info": {
   "name": "python"
  }
 },
 "nbformat": 4,
 "nbformat_minor": 5
}
