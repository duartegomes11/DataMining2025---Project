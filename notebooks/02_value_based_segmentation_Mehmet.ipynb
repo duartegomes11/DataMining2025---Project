{
 "cells": [
  {
   "cell_type": "markdown",
   "id": "f2a14034",
   "metadata": {},
   "source": [
    "# Value Based Segmentation"
   ]
  },
  {
   "cell_type": "markdown",
   "id": "11d6d9d2",
   "metadata": {},
   "source": [
    "Identify how much economic value each customer brings to the airline (AIAI) and group them based on financial contribution and profitability.\n",
    "\n",
    "This helps the company answer:\n",
    "\n",
    "“Who are our most valuable customers?”\n",
    "“Which customers deserve premium attention, loyalty perks, or reactivation campaigns?”"
   ]
  },
  {
   "cell_type": "code",
   "execution_count": 2,
   "id": "4e6b7176",
   "metadata": {},
   "outputs": [],
   "source": [
    "# Import Libraries\n",
    "import pandas as pd\n",
    "import numpy as np\n",
    "import matplotlib.pyplot as plt\n",
    "import seaborn as sns"
   ]
  },
  {
   "cell_type": "code",
   "execution_count": null,
   "id": "1bcece0d",
   "metadata": {},
   "outputs": [],
   "source": [
    "# Import aggregated data\n",
    "flights = pd.read_csv('../data/aggregated/flights_aggregations.csv')\n",
    "customers = pd.read_csv('../data/aggregated/customers_aggregations.csv')"
   ]
  },
  {
   "cell_type": "code",
   "execution_count": 13,
   "id": "3df3d3d0",
   "metadata": {},
   "outputs": [
    {
     "name": "stdout",
     "output_type": "stream",
     "text": [
      "Customers columns:\n",
      "Index(['Loyalty#', 'First Name', 'Last Name', 'Customer Name', 'Country',\n",
      "       'Province or State', 'City', 'Latitude', 'Longitude', 'Postal code',\n",
      "       'Gender', 'Education', 'Location Code', 'Income', 'Marital Status',\n",
      "       'LoyaltyStatus', 'EnrollmentDateOpening', 'CancellationDate',\n",
      "       'Customer Lifetime Value', 'EnrollmentType', 'IsActive', 'EndDate',\n",
      "       'CustomerTenureDays'],\n",
      "      dtype='object')\n",
      "\n",
      "Flights columns:\n",
      "Index(['Loyalty#', 'total_flights', 'total_flights_with_companions',\n",
      "       'total_distance', 'total_points_accumulated', 'total_points_redeemed',\n",
      "       'total_cost_redeemed', 'points_redemption_ratio',\n",
      "       'companion_flight_ratio'],\n",
      "      dtype='object')\n"
     ]
    }
   ],
   "source": [
    "# Columns of both datasets\n",
    "print(\"Customers columns:\")\n",
    "print(customers.columns)\n",
    "print(\"\\nFlights columns:\")\n",
    "print(flights.columns)"
   ]
  }
 ],
 "metadata": {
  "kernelspec": {
   "display_name": ".venv",
   "language": "python",
   "name": "python3"
  },
  "language_info": {
   "codemirror_mode": {
    "name": "ipython",
    "version": 3
   },
   "file_extension": ".py",
   "mimetype": "text/x-python",
   "name": "python",
   "nbconvert_exporter": "python",
   "pygments_lexer": "ipython3",
   "version": "3.11.11"
  }
 },
 "nbformat": 4,
 "nbformat_minor": 5
}
